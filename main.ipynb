{
 "cells": [
  {
   "cell_type": "markdown",
   "source": [
    "#Import"
   ],
   "metadata": {
    "collapsed": false
   },
   "id": "5262f90ca404bacb"
  },
  {
   "cell_type": "code",
   "outputs": [],
   "source": [
    "import pandas as pd\n",
    "import matplotlib.pyplot as plt"
   ],
   "metadata": {
    "collapsed": false,
    "ExecuteTime": {
     "end_time": "2024-05-15T12:23:04.769139Z",
     "start_time": "2024-05-15T12:23:03.886653700Z"
    }
   },
   "id": "fe6bdabf3899d3c7",
   "execution_count": 1
  },
  {
   "cell_type": "code",
   "outputs": [
    {
     "name": "stderr",
     "output_type": "stream",
     "text": [
      "C:\\Users\\lilwe\\AppData\\Local\\Programs\\Python\\Python311\\Lib\\site-packages\\openpyxl\\reader\\workbook.py:118: UserWarning: Print area cannot be set to Defined name: 'Raw Milk Prices'!$A:$AE.\n",
      "  warn(f\"Print area cannot be set to Defined name: {defn.value}.\")\n"
     ]
    },
    {
     "name": "stdout",
     "output_type": "stream",
     "text": [
      "         Belgium Bulgaria  Czechia  Denmark  Germany  Estonia  Ireland  \\\n",
      "1977m01    18.57      NaN      NaN    19.85    20.33      NaN    14.62   \n",
      "1977m02    18.13      NaN      NaN    19.67    20.07      NaN    15.05   \n",
      "1977m03    16.79      NaN      NaN    19.78    19.86      NaN    14.12   \n",
      "1977m04    16.95      NaN      NaN    19.62    19.89      NaN    14.19   \n",
      "1977m05    17.32      NaN      NaN    20.05    19.83      NaN    14.61   \n",
      "1977m06    17.18      NaN      NaN    19.63    19.59      NaN    15.03   \n",
      "1977m07    16.76      NaN      NaN    19.70    19.92      NaN    15.01   \n",
      "1977m08    17.24      NaN      NaN    20.18    20.29      NaN    15.44   \n",
      "1977m09    17.88      NaN      NaN    20.48    20.72      NaN    16.53   \n",
      "1977m10    18.90      NaN      NaN    21.25    21.18      NaN    17.30   \n",
      "\n",
      "         Greece  Spain  France  ...  Unnamed: 72  Unnamed: 73  Unnamed: 74  \\\n",
      "1977m01     NaN  19.35   16.76  ...          NaN          NaN          NaN   \n",
      "1977m02     NaN  19.30   16.55  ...          NaN          NaN          NaN   \n",
      "1977m03     NaN  19.41   16.34  ...          NaN          NaN          NaN   \n",
      "1977m04     NaN  19.86   15.97  ...          NaN          NaN          NaN   \n",
      "1977m05     NaN  19.79   15.15  ...          NaN          NaN          NaN   \n",
      "1977m06     NaN  19.79   15.10  ...          NaN          NaN          NaN   \n",
      "1977m07     NaN  16.63   15.07  ...          NaN          NaN          NaN   \n",
      "1977m08     NaN  16.85   15.17  ...          NaN          NaN          NaN   \n",
      "1977m09     NaN  16.68   15.81  ...          NaN          NaN          NaN   \n",
      "1977m10     NaN  16.97   16.83  ...          NaN          NaN          NaN   \n",
      "\n",
      "         Unnamed: 75  Unnamed: 76 Unnamed: 77  Unnamed: 78  Unnamed: 79  \\\n",
      "1977m01          NaN          NaN         NaN          NaN          NaN   \n",
      "1977m02          NaN          NaN         NaN          NaN          NaN   \n",
      "1977m03          NaN          NaN         NaN          NaN          NaN   \n",
      "1977m04          NaN          NaN         NaN          NaN          NaN   \n",
      "1977m05          NaN          NaN         NaN          NaN          NaN   \n",
      "1977m06          NaN          NaN         NaN          NaN          NaN   \n",
      "1977m07          NaN          NaN         NaN          NaN          NaN   \n",
      "1977m08          NaN          NaN         NaN          NaN          NaN   \n",
      "1977m09          NaN          NaN         NaN          NaN          NaN   \n",
      "1977m10          NaN          NaN         NaN          NaN          NaN   \n",
      "\n",
      "         Unnamed: 80 Unnamed: 81  \n",
      "1977m01          NaN         NaN  \n",
      "1977m02          NaN         NaN  \n",
      "1977m03          NaN         NaN  \n",
      "1977m04          NaN         NaN  \n",
      "1977m05          NaN         NaN  \n",
      "1977m06          NaN         NaN  \n",
      "1977m07          NaN         NaN  \n",
      "1977m08          NaN         NaN  \n",
      "1977m09          NaN         NaN  \n",
      "1977m10          NaN         NaN  \n",
      "\n",
      "[10 rows x 81 columns]\n",
      "Index([                                          'Belgium',\n",
      "                                                'Bulgaria',\n",
      "                                                 'Czechia',\n",
      "                                                 'Denmark',\n",
      "                                                 'Germany',\n",
      "                                                 'Estonia',\n",
      "                                                 'Ireland',\n",
      "                                                  'Greece',\n",
      "                                                   'Spain',\n",
      "                                                  'France',\n",
      "                                                 'Croatia',\n",
      "                                                   'Italy',\n",
      "                                                  'Cyprus',\n",
      "                                                  'Latvia',\n",
      "                                               'Lithuania',\n",
      "                                              'Luxembourg',\n",
      "                                                 'Hungary',\n",
      "                                                   'Malta',\n",
      "                                             'Netherlands',\n",
      "                                                 'Austria',\n",
      "                                                  'Poland',\n",
      "                                                'Portugal',\n",
      "                                                 'Romania',\n",
      "                                                'Slovenia',\n",
      "                                                'Slovakia',\n",
      "                                                 'Finland',\n",
      "                                                  'Sweden',\n",
      "                                      'EU\\n\\n(without UK)',\n",
      "       '% EU (without UK) compared to previous month\\n(*)',\n",
      "                                             'Unnamed: 30',\n",
      "                                             'Unnamed: 31',\n",
      "                                             'Unnamed: 32',\n",
      "                                             'Unnamed: 33',\n",
      "                                             'Unnamed: 34',\n",
      "                                             'Unnamed: 35',\n",
      "                                             'Unnamed: 36',\n",
      "                                             'Unnamed: 37',\n",
      "                                             'Unnamed: 38',\n",
      "                                             'Unnamed: 39',\n",
      "                                             'Unnamed: 40',\n",
      "                                             'Unnamed: 41',\n",
      "                                             'Unnamed: 42',\n",
      "                                             'Unnamed: 43',\n",
      "                                             'Unnamed: 44',\n",
      "                                             'Unnamed: 45',\n",
      "                                             'Unnamed: 46',\n",
      "                                             'Unnamed: 47',\n",
      "                                             'Unnamed: 48',\n",
      "                                             'Unnamed: 49',\n",
      "                                             'Unnamed: 50',\n",
      "                                             'Unnamed: 51',\n",
      "                                             'Unnamed: 52',\n",
      "                                                       574,\n",
      "                                             'Unnamed: 54',\n",
      "                                             'Unnamed: 55',\n",
      "                                             'Unnamed: 56',\n",
      "                                             'Unnamed: 57',\n",
      "                                             'Unnamed: 58',\n",
      "                                             'Unnamed: 59',\n",
      "                                             'Unnamed: 60',\n",
      "                                             'Unnamed: 61',\n",
      "                                             'Unnamed: 62',\n",
      "                                             'Unnamed: 63',\n",
      "                                             'Unnamed: 64',\n",
      "                                             'Unnamed: 65',\n",
      "                                             'Unnamed: 66',\n",
      "                                             'Unnamed: 67',\n",
      "                                             'Unnamed: 68',\n",
      "                                             'Unnamed: 69',\n",
      "                                             'Unnamed: 70',\n",
      "                                             'Unnamed: 71',\n",
      "                                             'Unnamed: 72',\n",
      "                                             'Unnamed: 73',\n",
      "                                             'Unnamed: 74',\n",
      "                                             'Unnamed: 75',\n",
      "                                             'Unnamed: 76',\n",
      "                                             'Unnamed: 77',\n",
      "                                             'Unnamed: 78',\n",
      "                                             'Unnamed: 79',\n",
      "                                             'Unnamed: 80',\n",
      "                                             'Unnamed: 81'],\n",
      "      dtype='object')\n"
     ]
    },
    {
     "name": "stderr",
     "output_type": "stream",
     "text": [
      "C:\\Users\\lilwe\\AppData\\Local\\Programs\\Python\\Python311\\Lib\\site-packages\\openpyxl\\worksheet\\_reader.py:329: UserWarning: Conditional Formatting extension is not supported and will be removed\n",
      "  warn(msg)\n"
     ]
    }
   ],
   "source": [
    "# Load data from sheet 1 skipping the first 6 rows\n",
    "data = pd.read_excel('Ire_EU_Milk_Prices.xlsx', sheet_name=0, skiprows=6, index_col=0)\n",
    "print(data.head(10))\n",
    "print(data.columns)\n"
   ],
   "metadata": {
    "collapsed": false,
    "ExecuteTime": {
     "end_time": "2024-05-15T12:23:34.986987Z",
     "start_time": "2024-05-15T12:23:34.176196Z"
    }
   },
   "id": "b447eed1c38df7f7",
   "execution_count": 2
  },
  {
   "cell_type": "code",
   "outputs": [],
   "source": [],
   "metadata": {
    "collapsed": false
   },
   "id": "3392e6ae6773063e"
  }
 ],
 "metadata": {
  "kernelspec": {
   "display_name": "Python 3",
   "language": "python",
   "name": "python3"
  },
  "language_info": {
   "codemirror_mode": {
    "name": "ipython",
    "version": 2
   },
   "file_extension": ".py",
   "mimetype": "text/x-python",
   "name": "python",
   "nbconvert_exporter": "python",
   "pygments_lexer": "ipython2",
   "version": "2.7.6"
  }
 },
 "nbformat": 4,
 "nbformat_minor": 5
}
